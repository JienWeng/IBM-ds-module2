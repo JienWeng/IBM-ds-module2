{
 "cells": [
  {
   "cell_type": "markdown",
   "id": "3d3152b3-9066-4f1d-82be-fe91b4cb494c",
   "metadata": {
    "tags": []
   },
   "source": [
    "# Data Science Tools and Ecosystem"
   ]
  },
  {
   "cell_type": "markdown",
   "id": "5bf34c3f-1869-4c3c-b802-51dc1eecc44b",
   "metadata": {},
   "source": [
    "In this notebook, Data Science Tools and Ecosystem are summarized.\n"
   ]
  },
  {
   "cell_type": "markdown",
   "id": "bbfdb35b-43d6-415f-a41a-a64e1e2f8f66",
   "metadata": {},
   "source": [
    "Some of the popular languages that Data Scientists use are:\n",
    "1. Python\n",
    "2. R\n",
    "2. Julia"
   ]
  },
  {
   "cell_type": "markdown",
   "id": "93057665-c762-46e9-b093-f7f2b52e4252",
   "metadata": {},
   "source": [
    "Some of the commonly used libraries used by Data Scientists include:\n",
    "\n",
    "1. Scikit-learn\n",
    "2. Pandas\n",
    "3. Matplotlib"
   ]
  },
  {
   "cell_type": "markdown",
   "id": "ce64b3e3-7089-48c4-8d61-bf288566d9ac",
   "metadata": {},
   "source": [
    "\n",
    "| Data Science Tools  | \n",
    "| -------- | \n",
    "| Anaconda  | \n",
    "| RStudio | \n",
    "| Jupyter Notebook | "
   ]
  },
  {
   "cell_type": "markdown",
   "id": "c976939d-54a1-40db-910e-dc610e7432b8",
   "metadata": {},
   "source": [
    "### Below are a few examples of evaluating arithmetic expressions in Python.\n"
   ]
  },
  {
   "cell_type": "code",
   "execution_count": 3,
   "id": "9a860d15-bd7e-4982-94f4-b9a7de2a1c91",
   "metadata": {
    "tags": []
   },
   "outputs": [
    {
     "data": {
      "text/plain": [
       "17"
      ]
     },
     "execution_count": 3,
     "metadata": {},
     "output_type": "execute_result"
    }
   ],
   "source": [
    "# This a simple arithmetic expression to mutiply then add integers\n",
    "(3*4)+5"
   ]
  },
  {
   "cell_type": "code",
   "execution_count": 4,
   "id": "9fcf768a-4820-4a6c-b4b2-479d42ab565d",
   "metadata": {
    "tags": []
   },
   "outputs": [
    {
     "data": {
      "text/plain": [
       "3.3333333333333335"
      ]
     },
     "execution_count": 4,
     "metadata": {},
     "output_type": "execute_result"
    }
   ],
   "source": [
    "# This will convert 200 minutes to hours by diving by 60\n",
    "minutes = 200\n",
    "hour = minutes/60\n",
    "hour"
   ]
  },
  {
   "cell_type": "markdown",
   "id": "91f45aff-9977-4283-b561-1707388b8141",
   "metadata": {},
   "source": [
    "**Objectives:**\n",
    "\n",
    "- Understand the importance of data science in various industries\n",
    "- List popular languages for Data Science\n",
    "- Learn basic data manipulation and visualization techniques\n",
    "- Introduction to machine learning concepts\n",
    "- Explore real-world applications of data science\n"
   ]
  },
  {
   "cell_type": "markdown",
   "id": "c539239f-5910-4607-9e86-0fdfc6d15197",
   "metadata": {
    "tags": []
   },
   "source": [
    "## Author \n",
    "Lai Jien Weng"
   ]
  }
 ],
 "metadata": {
  "kernelspec": {
   "display_name": "Python",
   "language": "python",
   "name": "conda-env-python-py"
  },
  "language_info": {
   "codemirror_mode": {
    "name": "ipython",
    "version": 3
   },
   "file_extension": ".py",
   "mimetype": "text/x-python",
   "name": "python",
   "nbconvert_exporter": "python",
   "pygments_lexer": "ipython3",
   "version": "3.7.12"
  }
 },
 "nbformat": 4,
 "nbformat_minor": 5
}
